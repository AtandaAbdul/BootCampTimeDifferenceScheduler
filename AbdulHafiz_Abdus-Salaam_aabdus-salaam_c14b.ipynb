{
 "cells": [
  {
   "cell_type": "code",
   "execution_count": 85,
   "id": "f9e9bdf7",
   "metadata": {},
   "outputs": [],
   "source": [
    "from datetime import datetime, timedelta\n",
    "import ipywidgets as widgets"
   ]
  },
  {
   "cell_type": "markdown",
   "id": "aa927637",
   "metadata": {},
   "source": [
    "### APP SPECIFICATIONS"
   ]
  },
  {
   "cell_type": "markdown",
   "id": "9805bf55",
   "metadata": {},
   "source": [
    "######\n",
    "\n",
    "0. Can calculate the EST equivalent time of any country.\n",
    "1. Can tell the current time in any country specified by the user by simply reading the current system time and time zone.\n",
    "2. Can tell the time of any time zone of any country specified by the user\n",
    "3. App can convert a specific time from one country to another.\n",
    "4. App can generate the Bootcamp schedule in the time/timezone of any country specified.\n",
    "5. Can generate the time left for each bootcmap and alert the user if bootcamp is within 24 hours."
   ]
  },
  {
   "cell_type": "markdown",
   "id": "0b1bb6c4",
   "metadata": {},
   "source": [
    "1. The app is making use of the GUI(ipywidgets) drop down list for making selection and date pickers to pick date.\n",
    "2.The app is making use of the system's current date and time which is in UTC.\n",
    "3. They are validations to prevent(input) error in the GUI. "
   ]
  },
  {
   "cell_type": "markdown",
   "id": "2a708370",
   "metadata": {},
   "source": [
    "####  COUNTRY DICTIONARY(588 countries)"
   ]
  },
  {
   "cell_type": "code",
   "execution_count": 100,
   "id": "f4f12a6f",
   "metadata": {},
   "outputs": [],
   "source": [
    "countryDict = {'Africa/Abidjan':0,'Africa/Accra':0,'Africa/Addis_Ababa':10800,'Africa/Algiers':3600,'Africa/Asmara':10800,'Africa/Asmera':10800,'Africa/Bamako':0,'Africa/Bangui':3600,'Africa/Banjul':0,'Africa/Bissau':0,'Africa/Blantyre':7200,'Africa/Brazzaville':3600,'Africa/Bujumbura':7200,'Africa/Cairo':7200,'Africa/Casablanca':0,'Africa/Ceuta':3600,'Africa/Conakry':0,'Africa/Dakar':0,'Africa/Dar_es_Salaam':10800,'Africa/Djibouti':10800,'Africa/Douala':3600,'Africa/El_Aaiun':0,'Africa/Freetown':0,'Africa/Gaborone':7200,'Africa/Harare':7200,'Africa/Johannesburg':7200,'Africa/Juba':10800,'Africa/Kampala':10800,'Africa/Khartoum':10800,'Africa/Kigali':7200,'Africa/Kinshasa':3600,'Africa/Lagos':3600,'Africa/Libreville':3600,'Africa/Lome':0,'Africa/Luanda':3600,'Africa/Lubumbashi':7200,'Africa/Lusaka':7200,'Africa/Malabo':3600,'Africa/Maputo':7200,'Africa/Maseru':7200,'Africa/Mbabane':7200,'Africa/Mogadishu':10800,'Africa/Monrovia':0,'Africa/Nairobi':10800,'Africa/Ndjamena':3600,'Africa/Niamey':3600,'Africa/Nouakchott':0,'Africa/Ouagadougou':0,'Africa/Porto-Novo':3600,'Africa/Sao_Tome':0,'Africa/Timbuktu':0,'Africa/Tripoli':7200,'Africa/Tunis':3600,'Africa/Windhoek':3600,'America/Adak':-36000,'America/Anchorage':-32400,'America/Anguilla':-14400,'America/Antigua':-14400,'America/Araguaina':-10800,'America/Argentina/Buenos_Aires':-10800,'America/Argentina/Catamarca':-10800,'America/Argentina/ComodRivadavia':-10800,'America/Argentina/Cordoba':-10800,'America/Argentina/Jujuy':-10800,'America/Argentina/La_Rioja':-10800,'America/Argentina/Mendoza':-10800,'America/Argentina/Rio_Gallegos':-10800,'America/Argentina/Salta':-10800,'America/Argentina/San_Juan':-10800,'America/Argentina/San_Luis':-10800,'America/Argentina/Tucuman':-10800,'America/Argentina/Ushuaia':-10800,'America/Aruba':-14400,'America/Asuncion':-10800,'America/Atikokan':-18000,'America/Atka':-36000,'America/Bahia':-10800,'America/Bahia_Banderas':-21600,'America/Barbados':-14400,'America/Belem':-10800,'America/Belize':-21600,'America/Blanc-Sablon':-14400,'America/Boa_Vista':-14400,'America/Bogota':-18000,'America/Boise':-25200,'America/Buenos_Aires':-10800,'America/Cambridge_Bay':-25200,'America/Campo_Grande':-14400,'America/Cancun':-18000,'America/Caracas':-16200,'America/Catamarca':-10800,'America/Cayenne':-10800,'America/Cayman':-18000,'America/Chicago':-21600,'America/Chihuahua':-25200,'America/Coral_Harbour':-18000,'America/Cordoba':-10800,'America/Costa_Rica':-21600,'America/Creston':-25200,'America/Cuiaba':-14400,'America/Curacao':-14400,\n",
    "'America/Danmarkshavn':0,'America/Dawson':-28800,'America/Dawson_Creek':-25200,'America/Denver':-25200,'America/Detroit':-18000,'America/Dominica':-14400,'America/Edmonton':-25200,'America/Eirunepe':-18000,'America/El_Salvador':-21600,'America/Ensenada':-28800,'America/Fort_Nelson':-25200,'America/Fort_Wayne':-18000,'America/Fortaleza':-10800,'America/Glace_Bay':-14400,'America/Godthab':-10800,'America/Goose_Bay':-14400,'America/Grand_Turk':-14400,'America/Grenada':-14400,'America/Guadeloupe':-14400,'America/Guatemala':-21600,'America/Guayaquil':-18000,'America/Guyana':-14400,'America/Halifax':-14400,'America/Havana':-18000,'America/Hermosillo':-25200,'America/Indiana/Indianapolis':-18000,'America/Indiana/Knox':-21600,'America/Indiana/Marengo':-18000,'America/Indiana/Petersburg':-18000,'America/Indiana/Tell_City':-21600,'America/Indiana/Vevay':-18000,'America/Indiana/Vincennes':-18000,'America/Indiana/Winamac':-18000,'America/Indianapolis':-18000,'America/Inuvik':-25200,'America/Iqaluit':-18000,'America/Jamaica':-18000,'America/Jujuy':-10800,'America/Juneau':-32400,'America/Kentucky/Louisville':-18000,'America/Kentucky/Monticello':-18000,'America/Knox_IN':-21600,'America/Kralendijk':-14400,'America/La_Paz':-14400,'America/Lima':-18000,'America/Los_Angeles':-28800,'America/Louisville':-18000,'America/Lower_Princes':-14400,'America/Maceio':-10800,'America/Managua':-21600,'America/Manaus':-14400,'America/Marigot':-14400,'America/Martinique':-14400,'America/Matamoros':-21600,'America/Mazatlan':-25200,'America/Mendoza':-10800,'America/Menominee':-21600,'America/Merida':-21600,'America/Metlakatla':-28800,'America/Mexico_City':-21600,'America/Miquelon':-10800,'America/Moncton':-14400,'America/Monterrey':-21600,'America/Montevideo':-10800,'America/Montreal':-18000,'America/Montserrat':-14400,'America/Nassau':-18000,'America/New_York':-18000,'America/Nipigon':-18000,'America/Nome':-32400,'America/Noronha':-7200,'America/North_Dakota/Beulah':-21600,'America/North_Dakota/Center':-21600,'America/North_Dakota/New_Salem':-21600,'America/Ojinaga':-25200,'America/Panama':-18000,'America/Pangnirtung':-18000,'America/Paramaribo':-10800,'America/Phoenix':-25200,'America/Port-au-Prince':-18000,'America/Port_of_Spain':-14400,'America/Porto_Acre':-18000,'America/Porto_Velho':-14400,'America/Puerto_Rico':-14400,'America/Rainy_River':-21600,'America/Rankin_Inlet':-21600,'America/Recife':-10800,'America/Regina':-21600,'America/Resolute':-21600,'America/Rio_Branco':-18000,'America/Rosario':-10800,'America/Santa_Isabel':-28800,'America/Santarem':-10800,'America/Santiago':-10800,'America/Santo_Domingo':-14400,'America/Sao_Paulo':-10800,'America/Scoresbysund':-3600,'America/Shiprock':-25200,'America/Sitka':-32400,'America/St_Barthelemy':-14400,'America/St_Johns':-12600,'America/St_Kitts':-14400,\n",
    "'America/St_Lucia':-14400,'America/St_Thomas':-14400,'America/St_Vincent':-14400,'America/Swift_Current':-21600,'America/Tegucigalpa':-21600,'America/Thule':-14400,'America/Thunder_Bay':-18000,'America/Tijuana':-28800,'America/Toronto':-18000,'America/Tortola':-14400,'America/Vancouver':-28800,'America/Virgin':-14400,'America/Whitehorse':-28800,'America/Winnipeg':-21600,'America/Yakutat':-32400,'America/Yellowknife':-25200,'Antarctica/Casey':28800,'Antarctica/Davis':25200,'Antarctica/DumontDUrville':36000,'Antarctica/Macquarie':39600,'Antarctica/Mawson':18000,'Antarctica/McMurdo':43200,'Antarctica/Palmer':-10800,'Antarctica/Rothera':-10800,'Antarctica/South_Pole':43200,'Antarctica/Syowa':10800,'Antarctica/Troll':0,'Antarctica/Vostok':21600,'Arctic/Longyearbyen':3600,'Asia/Aden':10800,'Asia/Almaty':21600,'Asia/Amman':7200,'Asia/Anadyr':43200,'Asia/Aqtau':18000,'Asia/Aqtobe':18000,'Asia/Ashgabat':18000,'Asia/Ashkhabad':18000,'Asia/Baghdad':10800,'Asia/Bahrain':10800,'Asia/Baku':14400,'Asia/Bangkok':25200,'Asia/Beirut':7200,'Asia/Bishkek':21600,'Asia/Brunei':28800,'Asia/Calcutta':19800,'Asia/Chita':28800,'Asia/Choibalsan':28800,'Asia/Chongqing':28800,'Asia/Chungking':28800,'Asia/Colombo':19800,'Asia/Dacca':21600,'Asia/Damascus':7200,'Asia/Dhaka':21600,'Asia/Dili':32400,'Asia/Dubai':14400,'Asia/Dushanbe':18000,'Asia/Gaza':7200,'Asia/Harbin':28800,'Asia/Hebron':7200,'Asia/Ho_Chi_Minh':25200,'Asia/Hong_Kong':28800,'Asia/Hovd':25200,'Asia/Irkutsk':28800,'Asia/Istanbul':7200,'Asia/Jakarta':25200,'Asia/Jayapura':32400,'Asia/Jerusalem':7200,'Asia/Kabul':16200,'Asia/Kamchatka':43200,'Asia/Karachi':18000,'Asia/Kashgar':21600,'Asia/Kathmandu':20700,'Asia/Katmandu':20700,'Asia/Khandyga':32400,'Asia/Kolkata':19800,'Asia/Krasnoyarsk':25200,'Asia/Kuala_Lumpur':28800,'Asia/Kuching':28800,'Asia/Kuwait':10800,'Asia/Macao':28800,'Asia/Macau':28800,'Asia/Magadan':36000,'Asia/Makassar':28800,'Asia/Manila':28800,'Asia/Muscat':14400,'Asia/Nicosia':7200,'Asia/Novokuznetsk':25200,'Asia/Novosibirsk':21600,'Asia/Omsk':21600,'Asia/Oral':18000,'Asia/Phnom_Penh':25200,'Asia/Pontianak':25200,'Asia/Pyongyang':30600,'Asia/Qatar':10800,'Asia/Qyzylorda':21600,'Asia/Rangoon':23400,'Asia/Riyadh':10800,'Asia/Riyadh87':10800,'Asia/Riyadh88':10800,'Asia/Riyadh89':10800,'Asia/Saigon':25200,'Asia/Sakhalin':36000,'Asia/Samarkand':18000,'Asia/Seoul':32400,'Asia/Shanghai':28800,'Asia/Singapore':28800,'Asia/Srednekolymsk':39600,'Asia/Taipei':28800,'Asia/Tashkent':18000,'Asia/Tbilisi':14400,'Asia/Tehran':12600,'Asia/Tel_Aviv':7200,'Asia/Thimbu':21600,'Asia/Thimphu':21600,'Asia/Tokyo':32400,'Asia/Ujung_Pandang':28800,'Asia/Ulaanbaatar':28800,'Asia/Ulan_Bator':28800,'Asia/Urumqi':21600,'Asia/Vientiane':25200,'Asia/Vladivostok':36000,'Asia/Yakutsk':32400,'Asia/Yekaterinburg':18000,'Asia/Yerevan':14400,'Atlantic/Azores':-3600,'Atlantic/Bermuda':-14400,'Atlantic/Canary':0,'Atlantic/Cape_Verde':-3600,'Atlantic/Faeroe':0,'Atlantic/Faroe':0,'Atlantic/Jan_Mayen':3600,'Atlantic/Madeira':0,'Atlantic/Reykjavik':0,'Atlantic/South_Georgia':-7200,'Atlantic/St_Helena':0,'Atlantic/Stanley':-10800,'Australia/ACT':36000,'Australia/Adelaide':34200,'Australia/Brisbane':36000,'Australia/Broken_Hill':34200,'Australia/Canberra':36000,'Australia/Currie':36000,'Australia/Darwin':34200,'Australia/Eucla':31500,'Australia/Hobart':36000,'Australia/LHI':37800,'Australia/Lindeman':36000,'Australia/Lord_Howe':37800,'Australia/Melbourne':36000,'Australia/NSW':36000,'Australia/North':34200,'Australia/Perth':28800,'Australia/Queensland':36000,'Australia/South':34200,'Australia/Sydney':36000,'Australia/Tasmania':36000,'Australia/Victoria':36000,'Australia/West':28800,'Australia/Yancowinna':34200,'Brazil/Acre':-18000,'Brazil/DeNoronha':-7200,'Brazil/East':-10800,'Brazil/West':-14400,'CET':3600,'CST6CDT':-21600,'Canada/Atlantic':-14400,'Canada/Central':-21600,'Canada/East-Saskatchewan':-21600,'Canada/Eastern':-18000,'Canada/Mountain':-25200,'Canada/Newfoundland':-12600,'Canada/Pacific':-28800,'Canada/Saskatchewan':-21600,'Canada/Yukon':-28800,'Chile/Continental':-10800,'Chile/EasterIsland':-18000,'Cuba':-18000,'EET':7200,'EST':-18000,'EST5EDT':-18000,'Egypt':7200,'Eire':0,'Etc/GMT':0,'Etc/GMT+0':0,'Etc/GMT+1':-3600,'Etc/GMT+10':-36000,'Etc/GMT+11':-39600,'Etc/GMT+12':-43200,'Etc/GMT+2':-7200,'Etc/GMT+3':-10800,'Etc/GMT+4':-14400,'Etc/GMT+5':-18000,'Etc/GMT+6':-21600,'Etc/GMT+7':-25200,'Etc/GMT+8':-28800,'Etc/GMT+9':-32400,'Etc/GMT-0':0,'Etc/GMT-1':3600,'Etc/GMT-10':36000,'Etc/GMT-11':39600,'Etc/GMT-12':43200,'Etc/GMT-13':46800,'Etc/GMT-14':50400,'Etc/GMT-2':7200,'Etc/GMT-3':10800,'Etc/GMT-4':14400,'Etc/GMT-5':18000,'Etc/GMT-6':21600,'Etc/GMT-7':25200,'Etc/GMT-8':28800,'Etc/GMT-9':32400,'Etc/GMT0':0,'Etc/Greenwich':0,'Etc/UCT':0,'Etc/UTC':0,'Etc/Universal':0,\n",
    "'Etc/Zulu':0,'Europe/Amsterdam':3600,'Europe/Andorra':3600,'Europe/Athens':7200,'Europe/Belfast':0,'Europe/Belgrade':3600,'Europe/Berlin':3600,'Europe/Bratislava':3600,'Europe/Brussels':3600,'Europe/Bucharest':7200,'Europe/Budapest':3600,'Europe/Busingen':3600,'Europe/Chisinau':7200,'Europe/Copenhagen':3600,'Europe/Dublin':0, 'Europe/Gibraltar':3600,'Europe/Guernsey':0,'Europe/Helsinki':7200,'Europe/Isle_of_Man':0,'Europe/Istanbul':7200,'Europe/Jersey':0,'Europe/Kaliningrad':7200,'Europe/Kiev':7200,'Europe/Lisbon':0,'Europe/Ljubljana':3600,'Europe/London':0,'Europe/Luxembourg':3600,'Europe/Madrid':3600,'Europe/Malta':3600,'Europe/Mariehamn':7200,'Europe/Minsk':10800,'Europe/Monaco':3600,'Europe/Moscow':10800,'Europe/Nicosia':7200,'Europe/Oslo':3600,'Europe/Paris':3600,'Europe/Podgorica':3600,'Europe/Prague':3600,'Europe/Riga':7200,'Europe/Rome':3600,'Europe/Samara':14400,'Europe/San_Marino':3600,'Europe/Sarajevo':3600,'Europe/Simferopol':7200,'Europe/Skopje':3600,'Europe/Sofia':7200,'Europe/Stockholm':3600,'Europe/Tallinn':7200,'Europe/Tirane':3600,'Europe/Tiraspol':7200,'Europe/Uzhgorod':7200,'Europe/Vaduz':3600,'Europe/Vatican':3600,'Europe/Vienna':3600,'Europe/Vilnius':7200,'Europe/Volgograd':10800,'Europe/Warsaw':3600,'Europe/Zagreb':3600,'Europe/Zaporozhye':7200,'Europe/Zurich':3600,'Factory':0,'GB':0,'GB-Eire':0,'GMT':0,'GMT+0':0,'GMT-0':0,'GMT0':0,'Greenwich':0,'HST':-36000,'Hongkong':28800,'Iceland':0,'Indian/Antananarivo':10800,'Indian/Chagos':21600,'Indian/Christmas':25200,'Indian/Cocos':23400,'Indian/Comoro':10800,'Indian/Kerguelen':18000,'Indian/Mahe':14400,'Indian/Maldives':18000,'Indian/Mauritius':14400,'Indian/Mayotte':10800,'Indian/Reunion':14400,'Iran':12600,'Israel':7200,'Jamaica':-18000,'Japan':32400,'Kwajalein':43200,'Libya':7200,'MET':3600,'MST':-25200,'MST7MDT':-25200,'Mexico/BajaNorte':-28800,'Mexico/BajaSur':-25200,'Mexico/General':-21600,'Mideast/Riyadh87':0,'Mideast/Riyadh88':0,'Mideast/Riyadh89':0,'NZ':43200,'NZ-CHAT':45900,'Navajo':0,'PRC':0,'PST8PDT':0,'Pacific/Apia':46800,'Pacific/Auckland':43200,'Pacific/Bougainville':39600,'Pacific/Chatham':45900,'Pacific/Chuuk':36000,'Pacific/Easter':-18000,'Pacific/Efate':39600,'Pacific/Enderbury':46800,'Pacific/Fakaofo':46800,'Pacific/Fiji':43200,'Pacific/Funafuti':43200,'Pacific/Galapagos':-21600,'Pacific/Gambier':-32400,'Pacific/Guadalcanal':39600,'Pacific/Guam':36000,'Pacific/Honolulu':-36000,'Pacific/Johnston':-36000,'Pacific/Kiritimati':50400,'Pacific/Kosrae':39600,'Pacific/Kwajalein':43200,'Pacific/Majuro':43200,'Pacific/Marquesas':-34200,'Pacific/Midway':-39600,'Pacific/Nauru':43200,\n",
    "'Pacific/Niue':-39600,'Pacific/Norfolk':39600,'Pacific/Noumea':39600,'Pacific/Pago_Pago':-39600,'Pacific/Palau':32400,'Pacific/Pitcairn':-28800,'Pacific/Ponape':39600,'Pacific/Port_Moresby':36000,'Pacific/Rarotonga':-36000,'Pacific/Saipan':36000,'Pacific/Samoa':-39600,'Pacific/Tahiti':-36000,'Pacific/Tarawa':43200,'Pacific/Tongatapu':46800,'Pacific/Truk':36000,'Pacific/Wake':43200,'Pacific/Wallis':43200,'Pacific/Yap':36000,'Poland':3600,'Portugal':0,'ROC':28800,'ROK':32400,'Singapore':28800,'Turkey':7200,'UCT':0,'US/Alaska':-32400,'US/Aleutian':-36000,'US/Arizona':-25200,'US/Central':-21600,'US/East-Indiana':-18000,'US/Eastern':-18000,'US/Hawaii':-36000,'US/Indiana-Starke':-21600,'US/Michigan':-18000,'US/Mountain':-25200,'US/Pacific':-28800,'US/Pacific-New':-28800,'US/Samoa':-39600,'UTC':0,'Universal':0,'W-SU':10800,'WET':0,'Zulu':0}\n",
    "countryList = list(countryDict.keys())"
   ]
  },
  {
   "cell_type": "markdown",
   "id": "de129e1a",
   "metadata": {},
   "source": [
    "#### BOOTCAMP SCHEDULE LISTS"
   ]
  },
  {
   "cell_type": "code",
   "execution_count": 101,
   "id": "355805f0",
   "metadata": {},
   "outputs": [],
   "source": [
    "cohortList = ['Cohort 14','Cohort 15','Cohort 14','Cohort 15','Cohort 14','Cohort 15','Cohort 14','Cohort 15','Cohort 14','Cohort 15','Cohort 14','Cohort 15','Cohort 14','Cohort 15','Cohort 14','Cohort 15','Cohort 14','Cohort 15',\n",
    "              'Cohort 14','Cohort 15','Cohort 14','Cohort 15','Cohort 14','Cohort 15','Cohort 14','Cohort 15','Cohort 14','Cohort 15']\n",
    "cohortddl = ['Cohort 14','Cohort 15']\n",
    "programddl = ['Data Analytics','Data Science/ML']\n",
    "programList = ['Data Analytics','Data Science/ML','Data Science/ML','Data Analytics','Data Analytics','Data Science/ML','Data Science/ML','Data Analytics','Data Analytics','Data Science/ML','Data Science/ML','Data Analytics',\n",
    "               'Data Analytics','Data Science/ML','Data Science/ML','Data Analytics','Data Analytics','Data Science/ML','Data Science/ML','Data Analytics','Data Analytics','Data Science/ML','Data Science/ML','Data Analytics','Data Analytics','Data Science/ML','Data Science/ML','Data Analytics']\n",
    "topicList = ['Python Variables','Data Cleaning','Python Variables','Data Visualization Project 1','Python Container','Data Transformation','Python Container','Data Visualization Project 2','Python Container II','Data Transformation II',\n",
    "             'Python Container II','Data Visualization Project 3','Python Functions','Feature Selection','Python Functions','Data Visualization Project 4','Python Functions','Feature Selection II','Python Functions II','Data Visualization Project 5','Python Pandas I','Supervised Learning Intro',\n",
    "             'Python Pandas I','Data Visualization Project 6','Python Pandas II','Unsupervised Learning Intro','Python Pandas II','Data Visualization Project 7']\n",
    "scheduleList = ['2022,07,07,06,00','2022,07,08,10,00','2022,07,07,06,00','2022,07,08,10,00','2022,07,21,06,00','2022,07,21,10,00','2022,07,22,06,00','2022,07,22,10,00','2022,08,04,06,00','2022,08,04,10,00','2022,08,05,06,00','2022,08,05,10,00',\n",
    "                '2022,08,18,06,00','2022,08,18,10,00','2022,08,19,06,00','2022,08,19,10,00','2022,09,01,06,00','2022,09,01,10,00','2022,09,02,06,00','2022,09,02,10,00','2022,09,15,06,00','2022,09,15,10,00','2022,09,16,06,00','2022,09,16,10,00',\n",
    "                '2022,09,29,06,00','2022,09,29,10,00', '2022,09,30,06,00','2022,09,30,10,00']"
   ]
  },
  {
   "cell_type": "markdown",
   "id": "fd0d3efc",
   "metadata": {},
   "source": [
    "#### TIME ZONE DICTIONARY(200 timezones)"
   ]
  },
  {
   "cell_type": "code",
   "execution_count": 102,
   "id": "2d5764c6",
   "metadata": {},
   "outputs": [],
   "source": [
    "Tz = {'Australian Central Daylight Savings Time (ACDT)': '+10.30','Australian Central Standard Time (ACST)': '+09.30','Acre Time (ACT)': '-5','ASEAN Common Time (ACT)': '+06.30 - +09','Atlantic Daylight Time (ADT)': '-3','Australian Eastern Daylight Savings Time (AEDT)': '11','Australian Eastern Standard Time (AEST)': '10','Afghanistan Time (AFT)': '+04.30','Alaska Daylight Time (AKDT)': '-8','Alaska Standard Time (AKST)': '-9',  'Amazon Summer Time (Brazil)[1] (AMST)': '-3','Amazon Time (Brazil)[2] (AMT)': '-4','Armenia Time (AMT)': '4','Argentina Time (ART)': '-3','Arabia Standard Time (AST)': '3','Atlantic Standard Time (AST)': '-4','Australian Western Standard Time (AWST)': '8','Azores Summer Time (AZOST)': '±00','Azores Standard Time (AZOT)': '-1','Azerbaijan Time (AZT)': '4','Brunei Time (BDT)': '8','British Indian Ocean Time (BIOT)': '6','Baker Island Time (BIT)': '-12','Bolivia Time (BOT)': '-4','Brasilia Summer Time (BRST)': '-2','Brasilia Time (BRT)': '-3','Bangladesh Standard Time (BST)': '6','Bougainville Standard Time[3] (BST)': '11','British Summer Time (British Standard Time from Feb 1968 to Oct 1971) (BST)': '1','Bhutan Time (BTT)': '6','Central Africa Time (CAT)': '2','Cocos Islands Time (CCT)': '+06.30','Central Daylight Time (North America) (CDT)': '-5','Cuba Daylight Time[4] (CDT)': '-4','Central European Summer Time (Cf. HAEC) (CEST)': '2','Central European Time (CET)': '1','Chatham Daylight Time (CHADT)': '+13:45','Chatham Standard Time (CHAST)': '+12:45','Choibalsan Standard Time (CHOT)': '8','Choibalsan Summer Time (CHOST)': '9','Chamorro Standard Time (CHST)': '10','Chuuk Time (CHUT)': '10','Clipperton Island Standard Time (CIST)': '-8','Central Indonesia Time (CIT)': '8','Cook Island Time (CKT)': '-10','Chile Summer Time (CLST)': '-3','Chile Standard Time (CLT)': '-4',\n",
    "   'Colombia Summer Time (COST)': '-4','Colombia Time (COT)': '-5','Central Standard Time (North America) (CST)': '-6','China Standard Time (CST)': '8','Central Standard Time (Australia) (ACST)': '+09.30','Central Summer Time (Australia) (ACDT)': '+10.30','Cuba Standard Time (CST)': '-5','China time (CT)': '8','Cape Verde Time (CVT)': '-1','Central Western Standard Time (Australia) unofficial (CWST)': '+08:45','Christmas Island Time (CXT)': '7','Davis Time (DAVT)': '7',\"Dumont d'Urville Time (DDUT)\": '10','AIX specific equivalent of Central European Time[5] (DFT)': '1','Easter Island Summer Time (EASST)': '-5','Easter Island Standard Time (EAST)': '-6','East Africa Time (EAT)': '3','Eastern Caribbean Time (does not recognise DST) (ECT)': '-4','Ecuador Time (ECT)': '-5','Eastern Daylight Time (North America) (EDT)': '-4','Eastern Summer Time (Australia) (AEDT)': '11','Eastern European Summer Time (EEST)': '3','Eastern European Time (EET)': '2','Eastern Greenland Summer Time (EGST)': '±00','Eastern Greenland Time (EGT)': '-1','Eastern Indonesian Time (EIT)': '9','Eastern Standard Time (North America) (EST)': '-5','Eastern Standard Time (Australia) (AEST)': '10','Further-eastern European Time (FET)': '3','Fiji Time (FJT)': '12','Falkland Islands Summer Time (FKST)': '-3','Falkland Islands Time (FKT)': '-4','Fernando de Noronha Time (FNT)': '-2','Galapagos Time (GALT)': '-6','Gambier Islands (GAMT)': '-9','Georgia Standard Time (GET)': '4','French Guiana Time (GFT)': '-3','Gilbert Island Time (GILT)': '12','Gambier Island Time (GIT)': '-9','Greenwich Mean Time (GMT)': '±00','South Georgia and the South Sandwich Islands (GST)': '-2','Gulf Standard Time (GST)': '4','Guyana Time (GYT)': '-4','Hawaii-Aleutian Daylight Time (HADT)': '-9',\"Heure Avancée d'Europe Centrale francised name for CEST (HAEC)\": '2','Hawaii-Aleutian Standard Time (HAST)': '-10','Hong Kong Time (HKT)': '8',\n",
    "    'Heard and McDonald Islands Time (HMT)': '5','Khovd Summer Time (HOVST)': '8','Khovd Standard Time (HOVT)': '7','Indochina Time (ICT)': '7','Israel Daylight Time (IDT)': '3','Indian Ocean Time (IOT)': '3','Iran Daylight Time (IRDT)': '+04.30','Irkutsk Time (IRKT)': '8','Iran Standard Time (IRST)': '+03.30','Indian Standard Time (IST)': '+05.30','Irish Standard Time[6] (IST)': '1','Israel Standard Time (IST)': '2','Japan Standard Time (JST)': '9','Kyrgyzstan time (KGT)': '6','Kosrae Time (KOST)': '11','Krasnoyarsk Time (KRAT)': '7','Korea Standard Time (KST)': '9','Lord Howe Standard Time (LHST)': '+10.30','Lord Howe Summer Time (LHST)': '11','Line Islands Time (LINT)': '14','Magadan Time (MAGT)': '12','Marquesas Islands Time (MART)': '+10!','Mawson Station Time (MAWT)': '5','Mountain Daylight Time (North America) (MDT)': '-6','Middle European Time Same zone as CET (MET)': '1','Middle European Summer Time Same zone as CEST (MEST)': '2','Marshall Islands (MHT)': '12','Macquarie Island Station Time (MIST)': '11','Marquesas Islands Time (MIT)': '1','Myanmar Standard Time (MMT)': '+06.30','Moscow Time (MSK)': '3','Malaysia Standard Time (MST)': '8','Mountain Standard Time (North America) (MST)': '-7','Mauritius Time (MUT)': '4','Maldives Time (MVT)': '5','Malaysia Time (MYT)': '8','New Caledonia Time (NCT)': '11','Newfoundland Daylight Time (NDT)': '11','Norfolk Time (NFT)': '11','Nepal Time (NPT)': '+05:45','Newfoundland Standard Time (NST)': '1!','Newfoundland Time (NT)': '1!','Niue Time (NUT)': '-11','New Zealand Daylight Time (NZDT)': '13','New Zealand Standard Time (NZST)': '12','Omsk Time (OMST)': '6','Oral Time (ORAT)': '5','Pacific Daylight Time (North America) (PDT)': '-7','Peru Time (PET)': '-5','Kamchatka Time (PETT)': '12','Papua New Guinea Time (PGT)': '10','Phoenix Island Time (PHOT)': '13','Philippine Time (PHT)': '8','Pakistan Standard Time (PKT)': '5','Saint Pierre and Miquelon Daylight time (PMDT)': '-2','Saint Pierre and Miquelon Standard Time (PMST)': '-3','Pohnpei Standard Time (PONT)': '11','Pacific Standard Time (North America) (PST)': '-8',\n",
    "    'Philippine Standard Time (PST)': '8','Paraguay Summer Time (South America)[7] (PYST)': '-3','Paraguay Time (South America)[8] (PYT)': '-4','Réunion Time (RET)': '4','Rothera Research Station Time (ROTT)': '-3','Sakhalin Island time (SAKT)': '11','Samara Time (SAMT)': '4','South African Standard Time (SAST)': '2','Solomon Islands Time (SBT)': '11','Seychelles Time (SCT)': '4','Singapore Time (SGT)': '8','Sri Lanka Standard Time (SLST)': '+05.30','Srednekolymsk Time (SRET)': '11','Suriname Time (SRT)': '-3','Samoa Standard Time (SST)': '-11','Singapore Standard Time (SST)': '8','Showa Station Time (SYOT)': '3','Tahiti Time (TAHT)': '-10','Thailand Standard Time (THA)': '7','Indian/Kerguelen (TFT)': '5','Tajikistan Time (TJT)': '5','Tokelau Time (TKT)': '13','Timor Leste Time (TLT)': '9','Turkmenistan Time (TMT)': '5','Turkey Time (TRT)': '3','Tonga Time (TOT)': '13', 'Tuvalu Time (TVT)': '12','Ulaanbaatar Summer Time (ULAST)': '9','Ulaanbaatar Standard Time (ULAT)': '8','Kaliningrad Time (USZ1)': '2','Coordinated Universal Time (nan)': '±00','Uruguay Summer Time (UYST)': '-2',\n",
    "    'Uruguay Standard Time (UYT)': '-3','Uzbekistan Time (UZT)': '5','Venezuelan Standard Time (VET)': '-4','Vladivostok Time (VLAT)': '10','Volgograd Time (VOLT)': '4','Vostok Station Time (VOST)': '6','Vanuatu Time (VUT)': '11','Wake Island Time (WAKT)': '12','West Africa Summer Time (WAST)': '2','West Africa Time (WAT)': '1',\n",
    "    'Western European Summer Time (WEST)': '1','Western European Time (WET)': '±00','Western Indonesian Time (WIT)': '7','Western Standard Time (WST)': '8','Yakutsk Time (YAKT)': '9','Yekaterinburg Time (YEKT)': '5'} \n",
    "tzList = list(Tz.keys())"
   ]
  },
  {
   "cell_type": "markdown",
   "id": "0e6a9caf",
   "metadata": {},
   "source": [
    "### FUNCTIONS"
   ]
  },
  {
   "cell_type": "code",
   "execution_count": 103,
   "id": "3ae21cd5",
   "metadata": {},
   "outputs": [],
   "source": [
    "#SPECIFICATION 0\n",
    "def timeSorter(date,Hour,Minute,targetCountry):\n",
    "    dater = str(date)\n",
    "    dater = dater.replace('-',',')    \n",
    "    datt = dater + ',' + str(Hour) + ',' + str(Minute)\n",
    "    timeParts = datt.split(',')# spliting user time input by commas\n",
    "    yyyy = int(timeParts[0])\n",
    "    mm = int(timeParts[1])\n",
    "    dd = int(timeParts[2])\n",
    "    hh = int(timeParts[3])\n",
    "    m = int(timeParts[4])\n",
    "    dt2 = datetime(yyyy,mm,dd,hh,m) # converting to a datetime format\n",
    "    UTC = (dt2 - timedelta(hours=-5))\n",
    "    target_Offset = float(countryDict[targetCountry])\n",
    "    userEquivalent = (UTC + timedelta(seconds=target_Offset))\n",
    "           \n",
    "    print(f'The equivalent time for {dt2} EST in {targetCountry} is {userEquivalent}')\n",
    "    \n",
    "##SPECIFICATION 1 FUNCTION\n",
    "def currentTimeConverter(targetCountry):\n",
    "    target_Offset = float(countryDict[targetCountry]) \n",
    "        \n",
    "    UTC = datetime.now() \n",
    "    UTCf = UTC.strftime('%H:%M:%S')               \n",
    "    targetEquivalent = (UTC + timedelta(seconds=target_Offset)).strftime('%H:%M:%S')                     \n",
    "    print(f'The current time in {targetCountry} is {targetEquivalent}  ||||| while  UTC time {UTCf} ')   \n",
    "\n",
    "\n",
    "    #SPECIFICATION 2 FUNCTION\n",
    "def timezoneConverter(targetTz):\n",
    "    target_Offset_tz = float(Tz[targetTz])     \n",
    "        \n",
    "   \n",
    "    UTC = datetime.now() \n",
    "    UTCf = UTC.strftime('%H:%M:%S')\n",
    "               \n",
    "    #targetEquivalent = (UTC + timedelta(seconds=target_Offset))\n",
    "    targetEquivalent = (UTC + timedelta(hours=target_Offset_tz)).strftime('%H:%M:%S')\n",
    "            #````````````We dont need it to be formatted if were going to be wwprking in EST time\n",
    "            \n",
    "           \n",
    "    print(f'The current time in {targetTz} zone is {targetEquivalent} ||||| while  UTC time is {UTCf} ')\n",
    "        #return  targetEquivalent\n",
    "        \n",
    "        \n",
    "#SPECIFICATION 3 FUNCTION\n",
    "\n",
    "def timeConverter(date,Hour,Minute,userCountry,targetCountry):\n",
    " \n",
    "    #if userCountry in countryList and targetCountry in countryList:\n",
    "    user_Offset = float(countryDict[userCountry])     \n",
    "    target_Offset = float(countryDict[targetCountry])    \n",
    "     \n",
    "    #time sorter\n",
    "    dater = str(date)\n",
    "    dater = dater.replace('-',',')\n",
    "    \n",
    "    datt = dater + ',' + str(Hour) + ',' + str(Minute)\n",
    "    timeParts = datt.split(',')# spliting user time input by commas\n",
    "    yyyy = int(timeParts[0])\n",
    "    mm = int(timeParts[1])\n",
    "    dd = int(timeParts[2])\n",
    "    hh = int(timeParts[3])\n",
    "    m = int(timeParts[4])\n",
    "    dt2 = datetime(yyyy,mm,dd,hh,m) # converting to a datetime format\n",
    "    userEquivalent = dt2.strftime('%D %H:%M:%S')\n",
    "               \n",
    "    UTC = (dt2 - timedelta(seconds=user_Offset))           \n",
    "        #targetEquivalent = (UTC + timedelta(seconds=target_Offset))\n",
    "    targetEquivalent = (UTC + timedelta(seconds=target_Offset)).strftime('%D %H:%M:%S')\n",
    "    #userEquivalent = (UTC + timedelta(seconds=user_Offset)).strftime('%H:%M:%S')\n",
    "            #````````````We dont need it to be formatted if were going to be wwprking in EST time\n",
    "    print(f'The date and time {userEquivalent} for {userCountry}   is equivalent to  {targetEquivalent}  in {targetCountry} ')\n",
    "    \n",
    "\n",
    " #SPECIFICATION 4  FUNCTION \n",
    "def convertfromestScedule(targetCountry):\n",
    "\n",
    "    #list for the new schedule    \n",
    "    newSchedule = []\n",
    "    for q in scheduleList:\n",
    "        timeParts = q.split(',')# spliting user time input by commas\n",
    "        yyyy = int(timeParts[0])\n",
    "        mm = int(timeParts[1])\n",
    "        dd = int(timeParts[2])\n",
    "        hh = int(timeParts[3])\n",
    "        m = int(timeParts[4])\n",
    "        dt2 = datetime(yyyy,mm,dd,hh,m)\n",
    "        UTC = (dt2 - timedelta(hours=-5))\n",
    "        target_Offset = float(Tz[targetCountry])\n",
    "        userEquivalent = (UTC + timedelta(hours=target_Offset))\n",
    "        userEquivalent = userEquivalent.strftime(\"%D %H:%M:%S\")\n",
    "        newSchedule.append(userEquivalent)\n",
    "\n",
    "    print(f'The new schedule for {targetCountryS.value} time zone is:')\n",
    "    #print(gg)\n",
    "    print (\"                                         \")\n",
    "    print('****************************************************************************') \n",
    "    print(\"COHORT      ||PROGRAM          ||TOPIC           ||NEW SCHEDULE\")\n",
    "    print('****************************************************************************')    \n",
    "    \n",
    "    for c,p,t,s in zip(cohortList,programList,topicList,newSchedule):\n",
    "        print(f\"{c} | {p} | {t} | {s}\")\n",
    "    print('****************************************************************************')    \n",
    "    \n",
    "    \n",
    "#SPECIFICATION 5 FUNCTION\n",
    "#conversion functiion\n",
    "def convertfromestSceduleS(targetCountry,cohort,program):\n",
    "    newSchedule = []\n",
    "    newTopic = []\n",
    "    \n",
    "    for c,p,t,q in zip(cohortList,programList,topicList,scheduleList): \n",
    "        if cohort == c  and program == p:\n",
    "                timeParts = q.split(',')# spliting user time input by commas\n",
    "                yyyy = int(timeParts[0])\n",
    "                mm = int(timeParts[1])\n",
    "                dd = int(timeParts[2])\n",
    "                hh = int(timeParts[3])\n",
    "                m = int(timeParts[4])\n",
    "                dt2 = datetime(yyyy,mm,dd,hh,m)\n",
    "                UTC = (dt2 - timedelta(hours=-5))\n",
    "                target_Offset = float(Tz[targetCountry])\n",
    "                userEquivalentraw = (UTC + timedelta(hours=target_Offset))\n",
    "                userEquivalent = userEquivalentraw.strftime(\"%D %H:%M:%S\")\n",
    "                newSchedule.append(userEquivalentraw)\n",
    "                newTopic.append(t)\n",
    "                #print(f\" {cohort} | {program} | {t} | {userEquivalent} \")\n",
    "                \n",
    "        else:\n",
    "            pass\n",
    "    \n",
    "    print(f'The new schedule of {cohort}, {program} programs for {targetCountryS.value}  time zone is:')\n",
    "    #print(gg)\n",
    "    print (\"                                         \")\n",
    "    print('****************************************************************************')   \n",
    "    print(\"TOPIC                       || NEW TIME ||                    TIME DIFFERENCE\")\n",
    "    print('****************************************************************************')    \n",
    "    \n",
    "    \n",
    "    for to,s in zip(newTopic,newSchedule):                       \n",
    "        today = datetime.now()\n",
    "        time_diff = s - today\n",
    "        tdays = time_diff.days # get time difference in days\n",
    "        tsecs = time_diff.total_seconds() # get time difference in seconds\n",
    "        thrs = int(tsecs/(60*60))   \n",
    "        print(f\"{to} | {s} | {time_diff} | \")\n",
    "        print(\"__________________________________________________________________________________\")\n",
    "        if thrs >0 and thrs <= 24:\n",
    "            root = tkinter.Tk()\n",
    "            root.withdraw()\n",
    "            messagebox.showinfo(\"Hello!\", \"You have a bootcamp session within 24 hrs\")\n",
    "    \n",
    "            \n",
    "       \n",
    "    print('****************************************************************************')    \n"
   ]
  },
  {
   "cell_type": "markdown",
   "id": "1b909533",
   "metadata": {},
   "source": [
    "#  0"
   ]
  },
  {
   "cell_type": "markdown",
   "id": "0b5d3eb8",
   "metadata": {},
   "source": [
    "###### This section  calculates the equivalent dates and times of different regions from a given date and time in EST"
   ]
  },
  {
   "cell_type": "code",
   "execution_count": 104,
   "id": "33206a98",
   "metadata": {},
   "outputs": [
    {
     "name": "stdout",
     "output_type": "stream",
     "text": [
      "Please select the appropriate date,hour and minute you want of the time in EST\n"
     ]
    },
    {
     "data": {
      "application/vnd.jupyter.widget-view+json": {
       "model_id": "9ee034f6e7d34040af1a40362c4e2ae9",
       "version_major": 2,
       "version_minor": 0
      },
      "text/plain": [
       "DatePicker(value=None, description='Pick a Date')"
      ]
     },
     "metadata": {},
     "output_type": "display_data"
    },
    {
     "data": {
      "application/vnd.jupyter.widget-view+json": {
       "model_id": "824be7d80e0c4d019e692a46755495cd",
       "version_major": 2,
       "version_minor": 0
      },
      "text/plain": [
       "BoundedIntText(value=0, description='Hour(24hr):', max=24)"
      ]
     },
     "metadata": {},
     "output_type": "display_data"
    },
    {
     "data": {
      "application/vnd.jupyter.widget-view+json": {
       "model_id": "fa65bd16c14c4fa0812fb07199b178b3",
       "version_major": 2,
       "version_minor": 0
      },
      "text/plain": [
       "BoundedIntText(value=0, description='Minute:', max=60)"
      ]
     },
     "metadata": {},
     "output_type": "display_data"
    },
    {
     "data": {
      "application/vnd.jupyter.widget-view+json": {
       "model_id": "e0fed718eda74e35a5a8505539c8c9fa",
       "version_major": 2,
       "version_minor": 0
      },
      "text/plain": [
       "Label(value='Please select the region you want to convert to:')"
      ]
     },
     "metadata": {},
     "output_type": "display_data"
    },
    {
     "data": {
      "application/vnd.jupyter.widget-view+json": {
       "model_id": "470f42006506427fb894f98dc8f0f41f",
       "version_major": 2,
       "version_minor": 0
      },
      "text/plain": [
       "Dropdown(options=('Africa/Abidjan', 'Africa/Accra', 'Africa/Addis_Ababa', 'Africa/Algiers', 'Africa/Asmara', '…"
      ]
     },
     "metadata": {},
     "output_type": "display_data"
    },
    {
     "data": {
      "application/vnd.jupyter.widget-view+json": {
       "model_id": "4f7cf24bc60f40caac870c0008fd18cd",
       "version_major": 2,
       "version_minor": 0
      },
      "text/plain": [
       "Button(description='CALCULATE', style=ButtonStyle())"
      ]
     },
     "metadata": {},
     "output_type": "display_data"
    },
    {
     "name": "stdout",
     "output_type": "stream",
     "text": [
      "The equivalent time for 2022-07-14 00:00:00 EST in Africa/Abidjan is 2022-07-14 05:00:00\n",
      "The equivalent time for 2022-07-14 00:00:00 EST in EST is 2022-07-14 00:00:00\n",
      "The equivalent time for 2022-07-14 16:11:00 EST in EST is 2022-07-14 16:11:00\n",
      "The equivalent time for 2022-07-14 16:11:00 EST in Africa/Lagos is 2022-07-14 22:11:00\n"
     ]
    }
   ],
   "source": [
    "print(\"Please select the appropriate date,hour and minute you want of the time in EST\")\n",
    "date = widgets.DatePicker(description='Pick a Date',disabled=False)\n",
    "display(date)\n",
    "Hour = widgets.BoundedIntText(value=0,min=0,max=24,step=1,description='Hour(24hr):',disabled=False)\n",
    "display(Hour)\n",
    "\n",
    "Minute = widgets.BoundedIntText(value=0,min=0,max=60,step=1,description='Minute:',disabled=False)\n",
    "display(Minute)\n",
    "\n",
    "lbl2 = widgets.Label('Please select the region you want to convert to:')\n",
    "display(lbl2)\n",
    "targetCountry = widgets.Dropdown(options=countryList,value='Africa/Abidjan',description='',disabled=False,)\n",
    "display(targetCountry)\n",
    "    \n",
    "btn = widgets.Button(description='CALCULATE')\n",
    "display(btn)\n",
    "def pp(b):    \n",
    "    timeSorter(date.value,Hour.value,Minute.value,targetCountry.value)      \n",
    "btn.on_click(pp)\n"
   ]
  },
  {
   "cell_type": "markdown",
   "id": "44faec7e",
   "metadata": {},
   "source": [
    "#  1"
   ]
  },
  {
   "cell_type": "markdown",
   "id": "30ab4614",
   "metadata": {},
   "source": [
    "###### This section calculates the current time in a particular region or country using the system's current time(which is in UTC)"
   ]
  },
  {
   "cell_type": "code",
   "execution_count": 91,
   "id": "8d0032ae",
   "metadata": {},
   "outputs": [
    {
     "data": {
      "application/vnd.jupyter.widget-view+json": {
       "model_id": "fcb0049ef9e54ec1b105c21387566b45",
       "version_major": 2,
       "version_minor": 0
      },
      "text/plain": [
       "Label(value='Please select the region you want to convert to:')"
      ]
     },
     "metadata": {},
     "output_type": "display_data"
    },
    {
     "data": {
      "application/vnd.jupyter.widget-view+json": {
       "model_id": "699c835a21d34393a956657a69437263",
       "version_major": 2,
       "version_minor": 0
      },
      "text/plain": [
       "Dropdown(options=('Africa/Abidjan', 'Africa/Accra', 'Africa/Addis_Ababa', 'Africa/Algiers', 'Africa/Asmara', '…"
      ]
     },
     "metadata": {},
     "output_type": "display_data"
    },
    {
     "data": {
      "application/vnd.jupyter.widget-view+json": {
       "model_id": "735c953fed1442c0b000a124e43cb8e6",
       "version_major": 2,
       "version_minor": 0
      },
      "text/plain": [
       "Button(description='GET CURRENT TIME', style=ButtonStyle())"
      ]
     },
     "metadata": {},
     "output_type": "display_data"
    },
    {
     "name": "stdout",
     "output_type": "stream",
     "text": [
      "The current time in America/Argentina/Mendoza is 10:21:44  ||||| while  UTC time 13:21:44 \n",
      "The current time in America/Boise is 06:21:49  ||||| while  UTC time 13:21:49 \n",
      "The current time in America/Indiana/Winamac is 08:21:59  ||||| while  UTC time 13:21:59 \n"
     ]
    }
   ],
   "source": [
    "lbl2 = widgets.Label('Please select the region you want to convert to:')\n",
    "display(lbl2)\n",
    "targetCountry = widgets.Dropdown(options=countryList,value='Africa/Abidjan',description='',disabled=False,)\n",
    "display(targetCountry)\n",
    "\n",
    "btn = widgets.Button(description='GET CURRENT TIME')\n",
    "display(btn)\n",
    "def pp(b):\n",
    "    currentTimeConverter(targetCountry.value)\n",
    "btn.on_click(pp)\n"
   ]
  },
  {
   "cell_type": "markdown",
   "id": "b4888cca",
   "metadata": {},
   "source": [
    "#  2"
   ]
  },
  {
   "cell_type": "markdown",
   "id": "978c1024",
   "metadata": {},
   "source": [
    "###### This section calculates the current time in a particular time zone"
   ]
  },
  {
   "cell_type": "code",
   "execution_count": 92,
   "id": "b070b98c",
   "metadata": {
    "scrolled": true
   },
   "outputs": [
    {
     "data": {
      "application/vnd.jupyter.widget-view+json": {
       "model_id": "0b07f338ffb14f0f9d0a368800ba25df",
       "version_major": 2,
       "version_minor": 0
      },
      "text/plain": [
       "Label(value='Please select the Timezome you want to convert to:')"
      ]
     },
     "metadata": {},
     "output_type": "display_data"
    },
    {
     "data": {
      "application/vnd.jupyter.widget-view+json": {
       "model_id": "679e7252c5dc44ab9936656748d4a3fd",
       "version_major": 2,
       "version_minor": 0
      },
      "text/plain": [
       "Dropdown(options=('Australian Central Daylight Savings Time (ACDT)', 'Australian Central Standard Time (ACST)'…"
      ]
     },
     "metadata": {},
     "output_type": "display_data"
    },
    {
     "data": {
      "application/vnd.jupyter.widget-view+json": {
       "model_id": "072e0990dc5648e3ac5bd16093bcd8a3",
       "version_major": 2,
       "version_minor": 0
      },
      "text/plain": [
       "Button(description='CONVERT', style=ButtonStyle())"
      ]
     },
     "metadata": {},
     "output_type": "display_data"
    },
    {
     "name": "stdout",
     "output_type": "stream",
     "text": [
      "The current time in Argentina Time (ART) zone is 10:22:33 ||||| while  UTC time is 13:22:33 \n",
      "The current time in West Africa Time (WAT) zone is 14:22:40 ||||| while  UTC time is 13:22:40 \n",
      "The current time in Eastern Standard Time (North America) (EST) zone is 08:23:14 ||||| while  UTC time is 13:23:14 \n"
     ]
    }
   ],
   "source": [
    "\n",
    "lblTz = widgets.Label('Please select the Timezome you want to convert to:')\n",
    "display(lblTz)\n",
    "targetTz = widgets.Dropdown(options=tzList,value='Australian Central Daylight Savings Time (ACDT)',description='',disabled=False,)\n",
    "display(targetTz)\n",
    "\n",
    "btn = widgets.Button(description='CONVERT')\n",
    "display(btn)\n",
    "def ppTz(b):\n",
    "    timezoneConverter(targetTz.value)\n",
    "btn.on_click(ppTz)\n"
   ]
  },
  {
   "cell_type": "markdown",
   "id": "e41d54e6",
   "metadata": {},
   "source": [
    "#  3"
   ]
  },
  {
   "cell_type": "markdown",
   "id": "b63895a5",
   "metadata": {},
   "source": [
    "##### This section converts a particular given time in a time zone to the equivalent time in another requested time zone"
   ]
  },
  {
   "cell_type": "code",
   "execution_count": 95,
   "id": "6beb2d51",
   "metadata": {},
   "outputs": [
    {
     "data": {
      "application/vnd.jupyter.widget-view+json": {
       "model_id": "28ab707e57d0405bb1321ad67464ccc0",
       "version_major": 2,
       "version_minor": 0
      },
      "text/plain": [
       "Label(value='Please select the region you want to convert from:')"
      ]
     },
     "metadata": {},
     "output_type": "display_data"
    },
    {
     "data": {
      "application/vnd.jupyter.widget-view+json": {
       "model_id": "8cc3db3b6b2b4318ba23369c39f85a91",
       "version_major": 2,
       "version_minor": 0
      },
      "text/plain": [
       "Dropdown(options=('Africa/Abidjan', 'Africa/Accra', 'Africa/Addis_Ababa', 'Africa/Algiers', 'Africa/Asmara', '…"
      ]
     },
     "metadata": {},
     "output_type": "display_data"
    },
    {
     "name": "stdout",
     "output_type": "stream",
     "text": [
      "Please select and input the appropriate date,hour and minute of the time you want to convert from\n"
     ]
    },
    {
     "data": {
      "application/vnd.jupyter.widget-view+json": {
       "model_id": "0117eb4101384b1f813993b812bde4b2",
       "version_major": 2,
       "version_minor": 0
      },
      "text/plain": [
       "DatePicker(value=None, description='Pick a Date')"
      ]
     },
     "metadata": {},
     "output_type": "display_data"
    },
    {
     "data": {
      "application/vnd.jupyter.widget-view+json": {
       "model_id": "fa89489452e94a05b6baaf88f10d276a",
       "version_major": 2,
       "version_minor": 0
      },
      "text/plain": [
       "BoundedIntText(value=0, description='Hour(24hr):', max=23)"
      ]
     },
     "metadata": {},
     "output_type": "display_data"
    },
    {
     "data": {
      "application/vnd.jupyter.widget-view+json": {
       "model_id": "a8562db39e7042a7a0c6cb4e185726b9",
       "version_major": 2,
       "version_minor": 0
      },
      "text/plain": [
       "BoundedIntText(value=0, description='Minute:', max=59)"
      ]
     },
     "metadata": {},
     "output_type": "display_data"
    },
    {
     "data": {
      "application/vnd.jupyter.widget-view+json": {
       "model_id": "daebe74fdf794cc08262f8fb518903a8",
       "version_major": 2,
       "version_minor": 0
      },
      "text/plain": [
       "Label(value='Please select the region you want to convert to:')"
      ]
     },
     "metadata": {},
     "output_type": "display_data"
    },
    {
     "data": {
      "application/vnd.jupyter.widget-view+json": {
       "model_id": "cfbb21831644420985e2d7c642d9410d",
       "version_major": 2,
       "version_minor": 0
      },
      "text/plain": [
       "Dropdown(options=('Africa/Abidjan', 'Africa/Accra', 'Africa/Addis_Ababa', 'Africa/Algiers', 'Africa/Asmara', '…"
      ]
     },
     "metadata": {},
     "output_type": "display_data"
    },
    {
     "data": {
      "application/vnd.jupyter.widget-view+json": {
       "model_id": "1ee7cc4bc0fe4ab9b559f3de1266ac72",
       "version_major": 2,
       "version_minor": 0
      },
      "text/plain": [
       "Button(description='CONVERT', style=ButtonStyle())"
      ]
     },
     "metadata": {},
     "output_type": "display_data"
    },
    {
     "name": "stdout",
     "output_type": "stream",
     "text": [
      "The date and time 07/21/22 23:59:00 for Africa/Abidjan   is equivalent to  07/21/22 23:59:00  in Africa/Abidjan \n",
      "The date and time 07/21/22 23:59:00 for Africa/Lagos   is equivalent to  07/21/22 17:59:00  in EST \n",
      "The date and time 07/21/22 23:59:00 for EST   is equivalent to  07/22/22 05:59:00  in Africa/Lagos \n"
     ]
    }
   ],
   "source": [
    "lbl1 = widgets.Label('Please select the region you want to convert from:')\n",
    "display(lbl1)\n",
    "userCountry = widgets.Dropdown(options=countryList,value='Africa/Abidjan',description='',disabled=False,)\n",
    "display(userCountry)\n",
    "\n",
    "print(\"Please select and input the appropriate date,hour and minute of the time you want to convert from\")\n",
    "date = widgets.DatePicker(description='Pick a Date',disabled=False)\n",
    "display(date)\n",
    "Hour = widgets.BoundedIntText(value=0,min=0,max=23,step=1,description='Hour(24hr):',disabled=False)\n",
    "display(Hour)\n",
    "Minute = widgets.BoundedIntText(value=0,min=0,max=59,step=1,description='Minute:',disabled=False)\n",
    "display(Minute)\n",
    "\n",
    "lbl2 = widgets.Label('Please select the region you want to convert to:')\n",
    "display(lbl2)\n",
    "targetCountry = widgets.Dropdown(options=countryList,value='Africa/Abidjan',description='',disabled=False,)\n",
    "display(targetCountry)\n",
    "\n",
    "btn = widgets.Button(description='CONVERT')\n",
    "display(btn)\n",
    "def pp(b):   \n",
    "    timeConverter(date.value,Hour.value,Minute.value,userCountry.value,targetCountry.value)\n",
    "btn.on_click(pp)\n"
   ]
  },
  {
   "cell_type": "markdown",
   "id": "98b9de46",
   "metadata": {},
   "source": [
    "#  4 "
   ]
  },
  {
   "cell_type": "markdown",
   "id": "14638d5d",
   "metadata": {},
   "source": [
    "##### This section generates the Bootcamp schedule in the time/timezone of any country requested"
   ]
  },
  {
   "cell_type": "code",
   "execution_count": 98,
   "id": "5ccb5ca5",
   "metadata": {
    "scrolled": true
   },
   "outputs": [
    {
     "data": {
      "application/vnd.jupyter.widget-view+json": {
       "model_id": "d33b7dc57bbd45c28e780a8a31f4ba93",
       "version_major": 2,
       "version_minor": 0
      },
      "text/plain": [
       "Label(value='PLEASE SELECT THE TIME ZONE YOU WANT TO GENERATE A BOOTCAMP SCHEDULE FOR:')"
      ]
     },
     "metadata": {},
     "output_type": "display_data"
    },
    {
     "data": {
      "application/vnd.jupyter.widget-view+json": {
       "model_id": "f2ef89e55a8e45f092ce83eb01dcb5f9",
       "version_major": 2,
       "version_minor": 0
      },
      "text/plain": [
       "Dropdown(options=('Australian Central Daylight Savings Time (ACDT)', 'Australian Central Standard Time (ACST)'…"
      ]
     },
     "metadata": {},
     "output_type": "display_data"
    },
    {
     "data": {
      "application/vnd.jupyter.widget-view+json": {
       "model_id": "50d92f5dff614efc8c1b94fcad52bd12",
       "version_major": 2,
       "version_minor": 0
      },
      "text/plain": [
       "Button(description='GENERATE SCHEDULE', style=ButtonStyle())"
      ]
     },
     "metadata": {},
     "output_type": "display_data"
    },
    {
     "name": "stdout",
     "output_type": "stream",
     "text": [
      "The new schedule for Australian Central Daylight Savings Time (ACDT) time zone is:\n",
      "                                         \n",
      "****************************************************************************\n",
      "COHORT      ||PROGRAM          ||TOPIC           ||NEW SCHEDULE\n",
      "****************************************************************************\n",
      "Cohort 14 | Data Analytics | Python Variables | 07/07/22 21:18:00\n",
      "Cohort 15 | Data Science/ML | Data Cleaning | 07/09/22 01:18:00\n",
      "Cohort 14 | Data Science/ML | Python Variables | 07/07/22 21:18:00\n",
      "Cohort 15 | Data Analytics | Data Visualization Project 1 | 07/09/22 01:18:00\n",
      "Cohort 14 | Data Analytics | Python Container | 07/21/22 21:18:00\n",
      "Cohort 15 | Data Science/ML | Data Transformation | 07/22/22 01:18:00\n",
      "Cohort 14 | Data Science/ML | Python Container | 07/22/22 21:18:00\n",
      "Cohort 15 | Data Analytics | Data Visualization Project 2 | 07/23/22 01:18:00\n",
      "Cohort 14 | Data Analytics | Python Container II | 08/04/22 21:18:00\n",
      "Cohort 15 | Data Science/ML | Data Transformation II | 08/05/22 01:18:00\n",
      "Cohort 14 | Data Science/ML | Python Container II | 08/05/22 21:18:00\n",
      "Cohort 15 | Data Analytics | Data Visualization Project 3 | 08/06/22 01:18:00\n",
      "Cohort 14 | Data Analytics | Python Functions | 08/18/22 21:18:00\n",
      "Cohort 15 | Data Science/ML | Feature Selection | 08/19/22 01:18:00\n",
      "Cohort 14 | Data Science/ML | Python Functions | 08/19/22 21:18:00\n",
      "Cohort 15 | Data Analytics | Data Visualization Project 4 | 08/20/22 01:18:00\n",
      "Cohort 14 | Data Analytics | Python Functions | 09/01/22 21:18:00\n",
      "Cohort 15 | Data Science/ML | Feature Selection II | 09/02/22 01:18:00\n",
      "Cohort 14 | Data Science/ML | Python Functions II | 09/02/22 21:18:00\n",
      "Cohort 15 | Data Analytics | Data Visualization Project 5 | 09/03/22 01:18:00\n",
      "Cohort 14 | Data Analytics | Python Pandas I | 09/15/22 21:18:00\n",
      "Cohort 15 | Data Science/ML | Supervised Learning Intro | 09/16/22 01:18:00\n",
      "Cohort 14 | Data Science/ML | Python Pandas I | 09/16/22 21:18:00\n",
      "Cohort 15 | Data Analytics | Data Visualization Project 6 | 09/17/22 01:18:00\n",
      "Cohort 14 | Data Analytics | Python Pandas II | 09/29/22 21:18:00\n",
      "Cohort 15 | Data Science/ML | Unsupervised Learning Intro | 09/30/22 01:18:00\n",
      "Cohort 14 | Data Science/ML | Python Pandas II | 09/30/22 21:18:00\n",
      "Cohort 15 | Data Analytics | Data Visualization Project 7 | 10/01/22 01:18:00\n",
      "****************************************************************************\n",
      "The new schedule for West Africa Time (WAT) time zone is:\n",
      "                                         \n",
      "****************************************************************************\n",
      "COHORT      ||PROGRAM          ||TOPIC           ||NEW SCHEDULE\n",
      "****************************************************************************\n",
      "Cohort 14 | Data Analytics | Python Variables | 07/07/22 12:00:00\n",
      "Cohort 15 | Data Science/ML | Data Cleaning | 07/08/22 16:00:00\n",
      "Cohort 14 | Data Science/ML | Python Variables | 07/07/22 12:00:00\n",
      "Cohort 15 | Data Analytics | Data Visualization Project 1 | 07/08/22 16:00:00\n",
      "Cohort 14 | Data Analytics | Python Container | 07/21/22 12:00:00\n",
      "Cohort 15 | Data Science/ML | Data Transformation | 07/21/22 16:00:00\n",
      "Cohort 14 | Data Science/ML | Python Container | 07/22/22 12:00:00\n",
      "Cohort 15 | Data Analytics | Data Visualization Project 2 | 07/22/22 16:00:00\n",
      "Cohort 14 | Data Analytics | Python Container II | 08/04/22 12:00:00\n",
      "Cohort 15 | Data Science/ML | Data Transformation II | 08/04/22 16:00:00\n",
      "Cohort 14 | Data Science/ML | Python Container II | 08/05/22 12:00:00\n",
      "Cohort 15 | Data Analytics | Data Visualization Project 3 | 08/05/22 16:00:00\n",
      "Cohort 14 | Data Analytics | Python Functions | 08/18/22 12:00:00\n",
      "Cohort 15 | Data Science/ML | Feature Selection | 08/18/22 16:00:00\n",
      "Cohort 14 | Data Science/ML | Python Functions | 08/19/22 12:00:00\n",
      "Cohort 15 | Data Analytics | Data Visualization Project 4 | 08/19/22 16:00:00\n",
      "Cohort 14 | Data Analytics | Python Functions | 09/01/22 12:00:00\n",
      "Cohort 15 | Data Science/ML | Feature Selection II | 09/01/22 16:00:00\n",
      "Cohort 14 | Data Science/ML | Python Functions II | 09/02/22 12:00:00\n",
      "Cohort 15 | Data Analytics | Data Visualization Project 5 | 09/02/22 16:00:00\n",
      "Cohort 14 | Data Analytics | Python Pandas I | 09/15/22 12:00:00\n",
      "Cohort 15 | Data Science/ML | Supervised Learning Intro | 09/15/22 16:00:00\n",
      "Cohort 14 | Data Science/ML | Python Pandas I | 09/16/22 12:00:00\n",
      "Cohort 15 | Data Analytics | Data Visualization Project 6 | 09/16/22 16:00:00\n",
      "Cohort 14 | Data Analytics | Python Pandas II | 09/29/22 12:00:00\n",
      "Cohort 15 | Data Science/ML | Unsupervised Learning Intro | 09/29/22 16:00:00\n",
      "Cohort 14 | Data Science/ML | Python Pandas II | 09/30/22 12:00:00\n",
      "Cohort 15 | Data Analytics | Data Visualization Project 7 | 09/30/22 16:00:00\n",
      "****************************************************************************\n"
     ]
    }
   ],
   "source": [
    "lbl2 = widgets.Label('PLEASE SELECT THE TIME ZONE YOU WANT TO GENERATE A BOOTCAMP SCHEDULE FOR:')\n",
    "display(lbl2)\n",
    "targetCountryS = widgets.Dropdown(options=tzList,value='Australian Central Daylight Savings Time (ACDT)',description='',disabled=False,)\n",
    "display(targetCountryS)\n",
    "\n",
    "btn = widgets.Button(description='GENERATE SCHEDULE')\n",
    "display(btn)\n",
    "\n",
    "def ppS(b):   \n",
    "    convertfromestScedule(targetCountryS.value)\n",
    "btn.on_click(ppS)"
   ]
  },
  {
   "cell_type": "markdown",
   "id": "7276d987",
   "metadata": {},
   "source": [
    "# 5"
   ]
  },
  {
   "cell_type": "markdown",
   "id": "e5173151",
   "metadata": {},
   "source": [
    "##### This section generates the Bootcamp schedule in the time/timezone of any country requested, calculates the time left for each bootcamp session and then generates a notification that alerts the user if he has a bootcamp session  within 24hrs"
   ]
  },
  {
   "cell_type": "code",
   "execution_count": 99,
   "id": "b499d1d5",
   "metadata": {},
   "outputs": [
    {
     "data": {
      "application/vnd.jupyter.widget-view+json": {
       "model_id": "3906d7dcaa8d422388286364a9a9c9f3",
       "version_major": 2,
       "version_minor": 0
      },
      "text/plain": [
       "Label(value='PLEASE SELECT THE TIME ZONE YOU WANT TO GENERATE A BOOTCAMP SCHEDULE FOR:')"
      ]
     },
     "metadata": {},
     "output_type": "display_data"
    },
    {
     "data": {
      "application/vnd.jupyter.widget-view+json": {
       "model_id": "091a9aca012f4bb69800f01a01ad522c",
       "version_major": 2,
       "version_minor": 0
      },
      "text/plain": [
       "Dropdown(options=('Australian Central Daylight Savings Time (ACDT)', 'Australian Central Standard Time (ACST)'…"
      ]
     },
     "metadata": {},
     "output_type": "display_data"
    },
    {
     "data": {
      "application/vnd.jupyter.widget-view+json": {
       "model_id": "ca40cb5e73334954b9c56d0366b925e3",
       "version_major": 2,
       "version_minor": 0
      },
      "text/plain": [
       "Label(value='Please select your cohort:')"
      ]
     },
     "metadata": {},
     "output_type": "display_data"
    },
    {
     "data": {
      "application/vnd.jupyter.widget-view+json": {
       "model_id": "533628437d594a469a062c740e456ab8",
       "version_major": 2,
       "version_minor": 0
      },
      "text/plain": [
       "Dropdown(options=('Cohort 14', 'Cohort 15'), value='Cohort 14')"
      ]
     },
     "metadata": {},
     "output_type": "display_data"
    },
    {
     "data": {
      "application/vnd.jupyter.widget-view+json": {
       "model_id": "4eda2161b81e4dcf9eec8da8a00082cd",
       "version_major": 2,
       "version_minor": 0
      },
      "text/plain": [
       "Label(value='Please select your OneCampus Program:')"
      ]
     },
     "metadata": {},
     "output_type": "display_data"
    },
    {
     "data": {
      "application/vnd.jupyter.widget-view+json": {
       "model_id": "52cfa89e534c4b52acdbb22c88888a48",
       "version_major": 2,
       "version_minor": 0
      },
      "text/plain": [
       "Dropdown(options=('Data Analytics', 'Data Science/ML'), value='Data Analytics')"
      ]
     },
     "metadata": {},
     "output_type": "display_data"
    },
    {
     "data": {
      "application/vnd.jupyter.widget-view+json": {
       "model_id": "663b6909c8d14f04b712db072cc9d4bf",
       "version_major": 2,
       "version_minor": 0
      },
      "text/plain": [
       "Button(description='GENERATE SCHEDULE', style=ButtonStyle())"
      ]
     },
     "metadata": {},
     "output_type": "display_data"
    },
    {
     "name": "stdout",
     "output_type": "stream",
     "text": [
      "The new schedule of Cohort 14, Data Analytics programs for Australian Central Daylight Savings Time (ACDT)  time zone is:\n",
      "                                         \n",
      "****************************************************************************\n",
      "TOPIC                       || NEW TIME ||                    TIME DIFFERENCE\n",
      "****************************************************************************\n",
      "Python Variables | 2022-07-07 21:18:00 | -12 days, 7:46:40.434007 | \n",
      "__________________________________________________________________________________\n",
      "Python Container | 2022-07-21 21:18:00 | 2 days, 7:46:40.434007 | \n",
      "__________________________________________________________________________________\n",
      "Python Container II | 2022-08-04 21:18:00 | 16 days, 7:46:40.434007 | \n",
      "__________________________________________________________________________________\n",
      "Python Functions | 2022-08-18 21:18:00 | 30 days, 7:46:40.434007 | \n",
      "__________________________________________________________________________________\n",
      "Python Functions | 2022-09-01 21:18:00 | 44 days, 7:46:40.434007 | \n",
      "__________________________________________________________________________________\n",
      "Python Pandas I | 2022-09-15 21:18:00 | 58 days, 7:46:40.434007 | \n",
      "__________________________________________________________________________________\n",
      "Python Pandas II | 2022-09-29 21:18:00 | 72 days, 7:46:40.434007 | \n",
      "__________________________________________________________________________________\n",
      "****************************************************************************\n"
     ]
    }
   ],
   "source": [
    "import tkinter\n",
    "from tkinter import messagebox\n",
    "#this library is for generating the alert box\n",
    "\n",
    "lbl2 = widgets.Label('PLEASE SELECT THE TIME ZONE YOU WANT TO GENERATE A BOOTCAMP SCHEDULE FOR:')\n",
    "display(lbl2)\n",
    "targetCountryS = widgets.Dropdown(options=tzList,value='Australian Central Daylight Savings Time (ACDT)',description='',disabled=False,)\n",
    "display(targetCountryS)\n",
    "\n",
    "lblcohort = widgets.Label('Please select your cohort:')\n",
    "display(lblcohort)\n",
    "cohor = widgets.Dropdown(options=cohortddl,value='Cohort 14',description='',disabled=False,)\n",
    "display(cohor)\n",
    "\n",
    "lblprogram = widgets.Label('Please select your OneCampus Program:')\n",
    "display(lblprogram)\n",
    "labe = widgets.Dropdown(options=programddl,value='Data Analytics',description='',disabled=False,)\n",
    "display(labe)\n",
    "    \n",
    "btn = widgets.Button(description='GENERATE SCHEDULE')\n",
    "display(btn)\n",
    "\n",
    "def ppS(b):    \n",
    "    convertfromestSceduleS(targetCountryS.value,cohor.value,labe.value)#\n",
    "btn.on_click(ppS)"
   ]
  },
  {
   "cell_type": "code",
   "execution_count": 21,
   "id": "726d26c6",
   "metadata": {},
   "outputs": [],
   "source": [
    "\n",
    "    "
   ]
  },
  {
   "cell_type": "code",
   "execution_count": 10,
   "id": "5ef2954c",
   "metadata": {},
   "outputs": [],
   "source": []
  },
  {
   "cell_type": "code",
   "execution_count": null,
   "id": "1471a4a2",
   "metadata": {},
   "outputs": [],
   "source": []
  }
 ],
 "metadata": {
  "kernelspec": {
   "display_name": "Python 3 (ipykernel)",
   "language": "python",
   "name": "python3"
  },
  "language_info": {
   "codemirror_mode": {
    "name": "ipython",
    "version": 3
   },
   "file_extension": ".py",
   "mimetype": "text/x-python",
   "name": "python",
   "nbconvert_exporter": "python",
   "pygments_lexer": "ipython3",
   "version": "3.9.12"
  }
 },
 "nbformat": 4,
 "nbformat_minor": 5
}
